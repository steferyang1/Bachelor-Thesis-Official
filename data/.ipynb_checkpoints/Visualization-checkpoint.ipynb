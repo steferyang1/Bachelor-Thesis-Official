{
 "cells": [
  {
   "cell_type": "code",
   "execution_count": null,
   "id": "940f8c0b-721d-4aaf-9014-9417724dbe31",
   "metadata": {},
   "outputs": [],
   "source": [
    "import numpy as np\n",
    "import mne\n",
    "import pyxdf\n",
    "import matplotlib.pyplot as plt\n",
    "import os"
   ]
  },
  {
   "cell_type": "code",
   "execution_count": null,
   "id": "41f50f17-d84b-437d-9c7d-afb76a0e6ea1",
   "metadata": {},
   "outputs": [],
   "source": [
    "streams, header = pyxdf.load_xdf(\"sub-S001/ses-S001/eeg/sub-S001_ses-S001_task-Default_run-001_eeg.xdf\")\n",
    "\n",
    "# Inspect available streams\n",
    "for stream in streams:\n",
    "    print(f\"Stream Name: {stream['info']['name'][0]}, Type: {stream['info']['type'][0]}\")"
   ]
  },
  {
   "cell_type": "markdown",
   "id": "305862c0-e808-4de8-bb0f-422437619561",
   "metadata": {},
   "source": [
    "### Load event_times and event_markers"
   ]
  },
  {
   "cell_type": "code",
   "execution_count": null,
   "id": "a7dda041-056e-4807-b3b1-5cbc162a6760",
   "metadata": {},
   "outputs": [],
   "source": [
    "marker_stream = next(s for s in streams if 'KeyboardMarkerStream' in s['info']['name'][0])\n",
    "\n",
    "#markers in order\n",
    "marker_data = marker_stream['time_series']\n",
    "#marker timestarms in order\n",
    "marker_timestamps = np.array(marker_stream['time_stamps'])\n",
    "\n",
    "#print(marker_data)\n",
    "#print(marker_timestamps)\n",
    "print(marker_stream)"
   ]
  },
  {
   "cell_type": "markdown",
   "id": "fb9a4e49-970a-4bb0-9872-dccb58915a3d",
   "metadata": {},
   "source": [
    "### Cue target numbers in order & Number of cues"
   ]
  },
  {
   "cell_type": "code",
   "execution_count": null,
   "id": "9a44848f-ee28-4cf9-9589-35504106f12b",
   "metadata": {},
   "outputs": [],
   "source": [
    "cue_targets = [int(str(marker[0]).split(\";\")[2].split(\"=\")[1]) for marker in marker_data if str(marker[0]).startswith(\"start_cue\")]\n",
    "print(\"target order:\", cue_targets)\n",
    "print(\"number of cues =\", len(cue_targets))"
   ]
  },
  {
   "cell_type": "markdown",
   "id": "4c193d2f-fbc2-486b-b138-ad7b730d405f",
   "metadata": {},
   "source": [
    "### Trial duration"
   ]
  },
  {
   "cell_type": "code",
   "execution_count": null,
   "id": "944d2d9b-4f99-4e04-85a3-cb67d0a9baa3",
   "metadata": {},
   "outputs": [],
   "source": [
    "import matplotlib.pyplot as plt\n",
    "start_trial_marker_indexes = [i for i,marker in enumerate(marker_data) if str(marker[0]).startswith(\"start_trial\")]\n",
    "start_trial_marker_times = marker_timestamps[start_trial_marker_indexes]\n",
    "\n",
    "stop_trial_marker_indexes = [i for i,marker in enumerate(marker_data) if str(marker[0]).startswith(\"stop_trial\")]\n",
    "stop_trial_marker_times = marker_timestamps[stop_trial_marker_indexes]\n",
    "\n",
    "#the durations of the queing for all the trials\n",
    "trial_durations = stop_trial_marker_times-start_trial_marker_times\n",
    "print(trial_durations)\n",
    "plt.figure(1)\n",
    "plt.hist(trial_durations)\n",
    "plt.xlabel(\"time (s)\")\n",
    "plt.show()"
   ]
  },
  {
   "cell_type": "markdown",
   "id": "102b4d2c-aac7-462a-b879-90c7eca1c274",
   "metadata": {},
   "source": [
    "### Cue duration"
   ]
  },
  {
   "cell_type": "code",
   "execution_count": null,
   "id": "e713fce0-7993-48fc-9b91-155fe5f8118b",
   "metadata": {},
   "outputs": [],
   "source": [
    "start_cue_marker_indexes = [i for i,marker in enumerate(marker_data) if str(marker[0]).startswith(\"start_cue\")]\n",
    "start_cue_marker_times = marker_timestamps[start_cue_marker_indexes]\n",
    "\n",
    "stop_cue_marker_indexes = [i for i,marker in enumerate(marker_data) if str(marker[0]).startswith(\"stop_cue\")]\n",
    "stop_cue_marker_times = marker_timestamps[stop_cue_marker_indexes]\n",
    "\n",
    "#the durations of the queing for all the trials\n",
    "cue_durations = stop_cue_marker_times-start_cue_marker_times\n",
    "print(start_cue_marker_times)\n",
    "plt.figure(2)\n",
    "plt.title(\"cue duration\")\n",
    "plt.xlabel(\"time (s)\")\n",
    "plt.hist(cue_durations)\n",
    "plt.show()"
   ]
  },
  {
   "cell_type": "markdown",
   "id": "3011de5b-bdde-4ada-8ccd-b770d6251462",
   "metadata": {},
   "source": [
    "### Condition duration"
   ]
  },
  {
   "cell_type": "code",
   "execution_count": null,
   "id": "22c9765a-f2f6-476f-9333-ee81b799b147",
   "metadata": {},
   "outputs": [],
   "source": [
    "#with condition we mean one of the four condition the participant had to test (e.g., bw with 30 classes)\n",
    "condition_duration = float(marker_timestamps[121]-marker_timestamps[0]) / 60\n",
    "print(\"The condition took a total of\",condition_duration, \"minutes\")"
   ]
  },
  {
   "cell_type": "markdown",
   "id": "5d8599e1-9538-472b-9fd1-b51ca40eb3d3",
   "metadata": {},
   "source": [
    "# Preprocessing"
   ]
  },
  {
   "cell_type": "markdown",
   "id": "86361b41-ffa0-4255-9493-e249f305342d",
   "metadata": {},
   "source": [
    "### Load EEG_data"
   ]
  },
  {
   "cell_type": "code",
   "execution_count": null,
   "id": "4763beca-fdc5-4e89-a91c-6ce849f68d07",
   "metadata": {},
   "outputs": [],
   "source": [
    "EEG_stream = next(s for s in streams if 'BioSemi' in s['info']['name'][0])\n",
    "\n",
    "#EEG info about the channels\n",
    "EEG_info = EEG_stream['info']\n",
    "#EEG footer\n",
    "EEG_footer = EEG_stream['footer']\n",
    "#EEG voltages in order of the 64 channels\n",
    "EEG_timeseries = EEG_stream['time_series'].T\n",
    "EEG_timeseries = EEG_timeseries[1:65,:]\n",
    "#EEG time stamps of the measures voltages\n",
    "EEG_timestamps = EEG_stream['time_stamps']\n",
    "#EEG clock values\n",
    "EEG_clockvalues = EEG_stream['clock_values']\n",
    "#EEG clock times\n",
    "EEG_clocktimes = EEG_stream['clock_times']\n"
   ]
  },
  {
   "cell_type": "markdown",
   "id": "16e96e24-6139-48f9-80d1-75db695f9bc6",
   "metadata": {},
   "source": [
    "### Channel data"
   ]
  },
  {
   "cell_type": "code",
   "execution_count": null,
   "id": "83a11daa-f5d4-4143-9d50-5b034686e580",
   "metadata": {},
   "outputs": [],
   "source": [
    "fig, axs = plt.subplots(8, 8, figsize=(30, 40))\n",
    "for i in range(64):\n",
    "    row = i // 8    # Determine the row index (0 to 20)\n",
    "    col = i % 8\n",
    "    axs[row,col].plot(EEG_timestamps,EEG_timeseries[i,:])\n",
    "    axs[row,col].set_title(str(EEG_info[\"desc\"][0][\"channels\"][0][\"channel\"][1+i]['label'][0]))\n",
    "plt.subplots_adjust(hspace=0.5) \n",
    "plt.show()"
   ]
  },
  {
   "cell_type": "markdown",
   "id": "4616c2ea-d531-41ab-b263-da8ee4868fde",
   "metadata": {},
   "source": [
    "based on this data, we will select the 64 channels. This is equivalent to index 1 to 64.\n",
    "Furthermore, channel B31 seems way off compared to the other channels. Same for 17."
   ]
  },
  {
   "cell_type": "markdown",
   "id": "2be7af59-ed71-473f-b5b6-bc9c3c0c5716",
   "metadata": {},
   "source": [
    "### Visualize condition bw 30 because of its weird accuracy"
   ]
  },
  {
   "cell_type": "code",
   "execution_count": null,
   "id": "9f82fa23-16d9-46e3-b080-947f4df69eb5",
   "metadata": {},
   "outputs": [],
   "source": [
    "data_dir = os.path.join(os.path.expanduser(\"~\"), \"ideaProjects\", \"programming\", \"BCI\", \"Thesis\", \"steven\", \"steven\")\n",
    "subject =  \"05\"\n",
    "folder = os.path.join(data_dir, \"derivatives\", subject)\n",
    "filename = \"05_cvep_classes=30_bw.npz\"\n",
    "path = os.path.join(folder, filename)\n",
    "print(path)\n",
    "\n",
    "data = np.load(path)\n",
    "\n",
    "X = data[\"X\"]  # shape: (trials, channels, samples)\n",
    "fs = data[\"fs\"].item() if isinstance(data[\"fs\"], np.ndarray) else data[\"fs\"]\n",
    "y = data[\"y\"]\n",
    "V = data[\"V\"]\n",
    "fs = int(data[\"fs\"])\n",
    "fr = 60\n",
    "\n",
    "# Loop through each trial\n",
    "for i in range(X.shape[0]):\n",
    "    trial = X[i,:,:]  # shape: (channels, samples)\n",
    "    \n",
    "    # Plot each channel in a separate subplot\n",
    "    n_channels = trial.shape[0]\n",
    "    fig, axs = plt.subplots(n_channels, 1, figsize=(10, 2 * n_channels), sharex=True)\n",
    "    \n",
    "    for ch in range(n_channels):\n",
    "        axs[ch].plot(trial[ch, :])\n",
    "        axs[ch].set_ylabel(f\"Ch {ch+1}\")\n",
    "        axs[ch].grid(True)\n",
    "    \n",
    "    axs[-1].set_xlabel(\"Samples\")\n",
    "    fig.suptitle(f\"All Channels for Trial {i+1}\", fontsize=16)\n",
    "    plt.tight_layout(rect=[0, 0.03, 1, 0.95])\n",
    "    plt.show()\n"
   ]
  }
 ],
 "metadata": {
  "kernelspec": {
   "display_name": "Python 3 (ipykernel)",
   "language": "python",
   "name": "python3"
  },
  "language_info": {
   "codemirror_mode": {
    "name": "ipython",
    "version": 3
   },
   "file_extension": ".py",
   "mimetype": "text/x-python",
   "name": "python",
   "nbconvert_exporter": "python",
   "pygments_lexer": "ipython3",
   "version": "3.10.16"
  }
 },
 "nbformat": 4,
 "nbformat_minor": 5
}
